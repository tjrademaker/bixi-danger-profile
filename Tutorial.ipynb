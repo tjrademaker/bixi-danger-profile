{
 "cells": [
  {
   "cell_type": "code",
   "execution_count": 1,
   "metadata": {},
   "outputs": [],
   "source": [
    "import numpy as np\n",
    "import pandas as pd\n",
    "import csv\n",
    "\n",
    "from Bixi_Danger import backend as bixi"
   ]
  },
  {
   "cell_type": "markdown",
   "metadata": {},
   "source": [
    "# Load your Bixi data\n",
    "\n",
    "1. Download your Bixi data for any given year as .PDF at **insert URL** \n",
    "2. Convert your .PDF to .CSV file via this website: https://www.zamzar.com/convert/pdf-to-csv/ \n",
    "\n",
    "For now, this only works for year 2018. The year is necessary as the bixi stations locations changes every year."
   ]
  },
  {
   "cell_type": "code",
   "execution_count": 2,
   "metadata": {},
   "outputs": [],
   "source": [
    "# filename of your .csv file & year of your data\n",
    "filename = 'lisa.csv'\n",
    "year     = '2018'"
   ]
  },
  {
   "cell_type": "markdown",
   "metadata": {},
   "source": [
    "### Filter Data\n",
    "Filtering NaN and unwanted data, reformatting data to get bixi station ID"
   ]
  },
  {
   "cell_type": "code",
   "execution_count": 3,
   "metadata": {},
   "outputs": [],
   "source": [
    "# Create dictionary for station names to station codes\n",
    "station_dict = bixi.station_location(year)\n",
    "\n",
    "# Set username and import data file (csv). Use https://www.zamzar.com/convert/pdf-to-csv/ to create csv files\n",
    "df_master    = pd.read_csv('data/bixi/%s'%filename, names = [\"timestamp\",'location','duration'],skiprows=7)\n",
    "\n",
    "# Filter unwanted data\n",
    "df_filtered  = bixi.filter_bixi_data(df_master)\n",
    "\n",
    "# Edit station names in bixi data that to not match with key in station_dict\n",
    "df_filtered  = bixi.edit_bixi_data(df_filtered, station_dict)\n",
    "\n",
    "# Create the reformatted bixi data file\n",
    "df_reformat  = bixi.reformat_bixi_data(df_filtered, station_dict, filename)"
   ]
  },
  {
   "cell_type": "code",
   "execution_count": null,
   "metadata": {},
   "outputs": [],
   "source": []
  },
  {
   "cell_type": "code",
   "execution_count": null,
   "metadata": {},
   "outputs": [],
   "source": []
  }
 ],
 "metadata": {
  "kernelspec": {
   "display_name": "Python (OSMNX)",
   "language": "python",
   "name": "osmnx"
  },
  "language_info": {
   "codemirror_mode": {
    "name": "ipython",
    "version": 3
   },
   "file_extension": ".py",
   "mimetype": "text/x-python",
   "name": "python",
   "nbconvert_exporter": "python",
   "pygments_lexer": "ipython3",
   "version": "3.6.6"
  }
 },
 "nbformat": 4,
 "nbformat_minor": 2
}
