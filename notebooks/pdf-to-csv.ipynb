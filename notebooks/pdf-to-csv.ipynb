{
 "cells": [
  {
   "cell_type": "markdown",
   "metadata": {},
   "source": [
    "# Turn exportable Bixi data (pdf) into usable csv format\n",
    "\n",
    "PER CELL\n",
    "- Import packages\n",
    "- Create dictionary for station names to station codes\n",
    "- Load users Bixi data (csv format after being converted from pdfs using zamzar)\n",
    "- Keep rows with start and end stations\n",
    "- Remove NaNs\n",
    "- For stationnames that are not present, compute distance in stringspace to all stations and pick smallest\n",
    "- Setup dataframe, fill the start/end station code and duration\n",
    "- Save to csv\n",
    "\n",
    "FURTHER USE\n",
    "- filter-rides.ipynb to create  [user]-filtered.csv or immediately compute danger-index\n",
    "\n",
    "PROS\n",
    "- Robust\n",
    "\n",
    "CONS\n",
    "- Abandons entry on when ride is taken\n",
    "- Requires manually converting pdf to csv file\n",
    "- Can we code something that does what Zamzar does?"
   ]
  },
  {
   "cell_type": "code",
   "execution_count": 19,
   "metadata": {},
   "outputs": [],
   "source": [
    "# import dependencies\n",
    "import pandas as pd\n",
    "import numpy as np\n",
    "import csv\n",
    "import editdistance"
   ]
  },
  {
   "cell_type": "code",
   "execution_count": 20,
   "metadata": {},
   "outputs": [],
   "source": [
    "# Create dictionary for station names to station codes\n",
    "with open('../data/bixi/BixiMontrealRentals2018/Stations_2018.csv', mode='r') as f_in:\n",
    "    reader = csv.reader(f_in)\n",
    "    station_dict = {rows[1]:rows[0] for rows in reader}"
   ]
  },
  {
   "cell_type": "code",
   "execution_count": 21,
   "metadata": {},
   "outputs": [],
   "source": [
    "# Set username and import data file (csv). Use https://www.zamzar.com/convert/pdf-to-csv/ to create csv files\n",
    "username = 'saad'\n",
    "df_master = pd.read_csv('../data/bixi/%s.csv'%username,names = [\"timestamp\",'location','duration'],skiprows=7)"
   ]
  },
  {
   "cell_type": "code",
   "execution_count": 25,
   "metadata": {
    "scrolled": true
   },
   "outputs": [
    {
     "data": {
      "text/html": [
       "<div>\n",
       "<style scoped>\n",
       "    .dataframe tbody tr th:only-of-type {\n",
       "        vertical-align: middle;\n",
       "    }\n",
       "\n",
       "    .dataframe tbody tr th {\n",
       "        vertical-align: top;\n",
       "    }\n",
       "\n",
       "    .dataframe thead th {\n",
       "        text-align: right;\n",
       "    }\n",
       "</style>\n",
       "<table border=\"1\" class=\"dataframe\">\n",
       "  <thead>\n",
       "    <tr style=\"text-align: right;\">\n",
       "      <th></th>\n",
       "      <th>date</th>\n",
       "      <th>location</th>\n",
       "      <th>duration</th>\n",
       "    </tr>\n",
       "  </thead>\n",
       "  <tbody>\n",
       "    <tr>\n",
       "      <th>0</th>\n",
       "      <td>Start: 11/15/2018</td>\n",
       "      <td>Duluth / St-Laurent</td>\n",
       "      <td>11 min 10 s</td>\n",
       "    </tr>\n",
       "    <tr>\n",
       "      <th>1</th>\n",
       "      <td>End: 11/15/2018</td>\n",
       "      <td>de la Montagne / Sherbrooke</td>\n",
       "      <td>NaN</td>\n",
       "    </tr>\n",
       "    <tr>\n",
       "      <th>2</th>\n",
       "      <td>Start: 11/15/2018</td>\n",
       "      <td>Milton / University</td>\n",
       "      <td>8 min 23 s</td>\n",
       "    </tr>\n",
       "    <tr>\n",
       "      <th>3</th>\n",
       "      <td>End: 11/15/2018</td>\n",
       "      <td>Duluth / St-Laurent</td>\n",
       "      <td>NaN</td>\n",
       "    </tr>\n",
       "    <tr>\n",
       "      <th>4</th>\n",
       "      <td>Start: 11/15/2018</td>\n",
       "      <td>Mackay / de Maisonneuve</td>\n",
       "      <td>5 min 51 s</td>\n",
       "    </tr>\n",
       "  </tbody>\n",
       "</table>\n",
       "</div>"
      ],
      "text/plain": [
       "                date                     location     duration\n",
       "0  Start: 11/15/2018          Duluth / St-Laurent  11 min 10 s\n",
       "1    End: 11/15/2018  de la Montagne / Sherbrooke          NaN\n",
       "2  Start: 11/15/2018          Milton / University   8 min 23 s\n",
       "3    End: 11/15/2018          Duluth / St-Laurent          NaN\n",
       "4  Start: 11/15/2018      Mackay / de Maisonneuve   5 min 51 s"
      ]
     },
     "execution_count": 25,
     "metadata": {},
     "output_type": "execute_result"
    }
   ],
   "source": [
    "# Keep rows that say station names\n",
    "df = df_master.drop(df_master[~(df_master['timestamp'].str.startswith('Start') | df_master['timestamp'].str.startswith('End'))].index)\n",
    "df.reset_index(drop = True, inplace = True)\n",
    "df.rename(columns = {'timestamp':'date'}, inplace = True)\n",
    "df.head()\n"
   ]
  },
  {
   "cell_type": "code",
   "execution_count": 10,
   "metadata": {},
   "outputs": [],
   "source": [
    "# Remove all NaNs from the start/end stations and including its trip-partner (end/start)\n",
    "invalid_index = df['location'].isna()\n",
    "for index, row in invalid_index.iteritems():\n",
    "    if row:\n",
    "        if np.mod(index,2) == 1:\n",
    "            invalid_index.loc[index-1] = True\n",
    "        elif np.mod(index,2) == 0:\n",
    "            invalid_index.loc[index+1] = True\n",
    "            \n",
    "df.drop(df[invalid_index].index,inplace=True)"
   ]
  },
  {
   "cell_type": "code",
   "execution_count": 11,
   "metadata": {},
   "outputs": [],
   "source": [
    "# For those entries that do not match any key in the dictionary, compute Levenshtein distance for all keys. Pick the smallest\n",
    "for index, item in df['location'].iteritems():\n",
    "    if item in station_dict.keys():\n",
    "        continue\n",
    "    else:\n",
    "        min_dist = 100\n",
    "        for station_name in station_dict.keys():\n",
    "            dist = editdistance.eval(item, station_name)\n",
    "            if dist < min_dist:\n",
    "                min_dist = dist\n",
    "                min_station = station_name\n",
    "        df.loc[index,'location'] = min_station"
   ]
  },
  {
   "cell_type": "code",
   "execution_count": 12,
   "metadata": {},
   "outputs": [],
   "source": [
    "# Create empty dataframe with headers corresponding to known format\n",
    "with open('../data/bixi/BixiMontrealRentals2018/OD_2018-04.csv', 'r') as f:\n",
    "    reader = csv.reader(f)\n",
    "    header = next(reader)\n",
    "\n",
    "df_full = pd.DataFrame(columns = header)"
   ]
  },
  {
   "cell_type": "code",
   "execution_count": 13,
   "metadata": {},
   "outputs": [],
   "source": [
    "# Place the start/end stations and duration in df_full\n",
    "for index, row in df.iterrows():\n",
    "    if np.mod(index,2) == 0:\n",
    "        df_full.loc[int(index/2),'start_station_code'] = station_dict[row[1]]\n",
    "        df_full.loc[int(index/2),'duration_sec'] = 60*int(row[2].split()[0])+int(row[2].split()[2])\n",
    "    elif np.mod(index,2) == 1:\n",
    "        df_full.loc[int(index/2),'end_station_code'] = station_dict[row[1]]\n"
   ]
  },
  {
   "cell_type": "code",
   "execution_count": 14,
   "metadata": {},
   "outputs": [
    {
     "name": "stdout",
     "output_type": "stream",
     "text": [
      "    start_date start_station_code end_date end_station_code duration_sec  \\\n",
      "0          NaN               6213      NaN             6065          670   \n",
      "1          NaN               6070      NaN             6213          503   \n",
      "2          NaN               6100      NaN             7080          351   \n",
      "3          NaN               6432      NaN             6100          527   \n",
      "4          NaN               6065      NaN             6432          545   \n",
      "..         ...                ...      ...              ...          ...   \n",
      "302        NaN               6065      NaN             7084          105   \n",
      "303        NaN               6070      NaN             6205           94   \n",
      "304        NaN               6065      NaN             7084          120   \n",
      "305        NaN               6070      NaN             6065          337   \n",
      "306        NaN               6070      NaN             6205          148   \n",
      "\n",
      "    is_member  \n",
      "0         NaN  \n",
      "1         NaN  \n",
      "2         NaN  \n",
      "3         NaN  \n",
      "4         NaN  \n",
      "..        ...  \n",
      "302       NaN  \n",
      "303       NaN  \n",
      "304       NaN  \n",
      "305       NaN  \n",
      "306       NaN  \n",
      "\n",
      "[303 rows x 6 columns]\n"
     ]
    }
   ],
   "source": [
    "print(df_full)"
   ]
  },
  {
   "cell_type": "code",
   "execution_count": 15,
   "metadata": {},
   "outputs": [],
   "source": [
    "# and save the file\n",
    "df_full.to_csv('../data/bixi/%s-complete.csv'%username,index=False)"
   ]
  },
  {
   "cell_type": "code",
   "execution_count": null,
   "metadata": {},
   "outputs": [],
   "source": []
  },
  {
   "cell_type": "code",
   "execution_count": null,
   "metadata": {},
   "outputs": [],
   "source": []
  },
  {
   "cell_type": "code",
   "execution_count": 16,
   "metadata": {},
   "outputs": [],
   "source": [
    "'''\n",
    "Adding the time is too time-consuming (get it?). There are more important jobs to do. Surely one can find to robustly add the time to the userprofile\n",
    "\n",
    "df_time = df_master.drop(df_master[~(df_master['timestamp'].str.contains('AM') | df_master['timestamp'].str.contains('PM'))].index)\n",
    "df_time.reset_index(drop = True, inplace = True)\n",
    "df_time.rename(columns = {'timestamp':'time'}, inplace = True)\n",
    "\n",
    "''';"
   ]
  },
  {
   "cell_type": "code",
   "execution_count": 17,
   "metadata": {},
   "outputs": [
    {
     "ename": "NameError",
     "evalue": "name 'df_time' is not defined",
     "output_type": "error",
     "traceback": [
      "\u001b[0;31m---------------------------------------------------------------------------\u001b[0m",
      "\u001b[0;31mNameError\u001b[0m                                 Traceback (most recent call last)",
      "\u001b[0;32m<ipython-input-17-d27d4540f434>\u001b[0m in \u001b[0;36m<module>\u001b[0;34m\u001b[0m\n\u001b[0;32m----> 1\u001b[0;31m \u001b[0mdf_time\u001b[0m\u001b[0;34m[\u001b[0m\u001b[0;34m~\u001b[0m\u001b[0mdf_time\u001b[0m\u001b[0;34m[\u001b[0m\u001b[0;34m'location'\u001b[0m\u001b[0;34m]\u001b[0m\u001b[0;34m.\u001b[0m\u001b[0misna\u001b[0m\u001b[0;34m(\u001b[0m\u001b[0;34m)\u001b[0m\u001b[0;34m]\u001b[0m\u001b[0;34m;\u001b[0m\u001b[0;34m\u001b[0m\u001b[0;34m\u001b[0m\u001b[0m\n\u001b[0m",
      "\u001b[0;31mNameError\u001b[0m: name 'df_time' is not defined"
     ]
    }
   ],
   "source": [
    "df_time[~df_time['location'].isna()];"
   ]
  },
  {
   "cell_type": "code",
   "execution_count": 18,
   "metadata": {},
   "outputs": [
    {
     "ename": "SyntaxError",
     "evalue": "EOF while scanning triple-quoted string literal (<ipython-input-18-ea66ea8cccca>, line 4)",
     "output_type": "error",
     "traceback": [
      "\u001b[0;36m  File \u001b[0;32m\"<ipython-input-18-ea66ea8cccca>\"\u001b[0;36m, line \u001b[0;32m4\u001b[0m\n\u001b[0;31m    3. duration-sec\u001b[0m\n\u001b[0m                   \n^\u001b[0m\n\u001b[0;31mSyntaxError\u001b[0m\u001b[0;31m:\u001b[0m EOF while scanning triple-quoted string literal\n"
     ]
    }
   ],
   "source": [
    "'''Full empty dataframe with \n",
    "1. start_date & end_date (date + time)\n",
    "2. start_station_code & end_station_code\n",
    "3. duration-sec\n"
   ]
  },
  {
   "cell_type": "code",
   "execution_count": null,
   "metadata": {},
   "outputs": [],
   "source": []
  }
 ],
 "metadata": {
  "kernelspec": {
   "display_name": "Python 3",
   "language": "python",
   "name": "python3"
  },
  "language_info": {
   "codemirror_mode": {
    "name": "ipython",
    "version": 3
   },
   "file_extension": ".py",
   "mimetype": "text/x-python",
   "name": "python",
   "nbconvert_exporter": "python",
   "pygments_lexer": "ipython3",
   "version": "3.7.6"
  }
 },
 "nbformat": 4,
 "nbformat_minor": 2
}
