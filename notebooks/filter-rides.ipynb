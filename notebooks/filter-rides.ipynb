{
 "cells": [
  {
   "cell_type": "code",
   "execution_count": 7,
   "metadata": {},
   "outputs": [],
   "source": [
    "import numpy as np\n",
    "import csv\n",
    "import pandas as pd"
   ]
  },
  {
   "cell_type": "code",
   "execution_count": 8,
   "metadata": {},
   "outputs": [],
   "source": [
    "# Create dictionary for station names to station codes\n",
    "path   = '../data/bixi/BixiMontrealRentals2018/Stations_2018_Plateau.csv' \n",
    "infile = open(path, 'r')\n",
    "line = infile.readline()\n",
    "\n",
    "stations = []\n",
    "for i in range(195):\n",
    "    line = infile.readline()\n",
    "    tmp  = line[:-2].split(',')\n",
    "    del tmp[1]\n",
    "    stations.append(tmp)\n",
    "infile.close()\n",
    "stations = np.asarray(stations)"
   ]
  },
  {
   "cell_type": "code",
   "execution_count": 9,
   "metadata": {},
   "outputs": [],
   "source": [
    "# loading users' bixi data\n",
    "month   = '10'\n",
    "\n",
    "path   = '../data/bixi/BixiMontrealRentals2018/OD_2018-'+month\n",
    "infile = open(path+'.csv', 'r')\n",
    "line   = infile.readline()\n",
    "\n",
    "rides  = []      # [start, end, duration]\n",
    "while line:\n",
    "#for i in range(1):\n",
    "    line = infile.readline()\n",
    "    tmp  = line.split(',')\n",
    "    del tmp[0]\n",
    "    try: del tmp[1]\n",
    "    except: break \n",
    "    del tmp[3]\n",
    "    rides.append(tmp)\n",
    "infile.close()\n",
    "n_rides = len(rides)\n",
    "rides = np.asarray(rides)"
   ]
  },
  {
   "cell_type": "code",
   "execution_count": 10,
   "metadata": {},
   "outputs": [],
   "source": [
    "# identifying valid rides\n",
    "valid_rides = []\n",
    "for i in range(n_rides):\n",
    "    start, end, dur = rides[i]\n",
    "    tmp1 = np.in1d(start, stations[:,0])\n",
    "    tmp2 = np.in1d(end, stations[:,0])\n",
    "    if (tmp1 == True and tmp2 ==True):\n",
    "        valid_rides.append(0)\n",
    "    else:\n",
    "        valid_rides.append(1)"
   ]
  },
  {
   "cell_type": "code",
   "execution_count": 11,
   "metadata": {},
   "outputs": [],
   "source": [
    "# removing rides that fall outside of the wanted box\n",
    "index = np.asarray(valid_rides)\n",
    "final_rides = rides[index==False]\n",
    "\n",
    "final_rides = final_rides.astype(np.float)\n",
    "\n",
    "nb_rides = len(final_rides[:,0])"
   ]
  },
  {
   "cell_type": "code",
   "execution_count": 12,
   "metadata": {},
   "outputs": [],
   "source": [
    "# writing the data in a .csv file\n",
    "header = 'start, end, duration'\n",
    "np.savetxt(path+'-filtered.csv', final_rides, header=header, delimiter=',',fmt='%d')\n",
    "\n",
    "\n",
    "# file = open(path, 'w')\n",
    "# line = 'start, end, duration'\n",
    "# file.write(line)\n",
    "# for i in range(nb_rides):\n",
    "    "
   ]
  },
  {
   "cell_type": "code",
   "execution_count": null,
   "metadata": {},
   "outputs": [],
   "source": []
  }
 ],
 "metadata": {
  "kernelspec": {
   "display_name": "Python 3",
   "language": "python",
   "name": "python3"
  },
  "language_info": {
   "codemirror_mode": {
    "name": "ipython",
    "version": 3
   },
   "file_extension": ".py",
   "mimetype": "text/x-python",
   "name": "python",
   "nbconvert_exporter": "python",
   "pygments_lexer": "ipython3",
   "version": "3.6.4"
  }
 },
 "nbformat": 4,
 "nbformat_minor": 2
}
