{
 "cells": [
  {
   "cell_type": "markdown",
   "metadata": {},
   "source": [
    "# Turn exportable Bixi data (pdf) into usable csv format"
   ]
  },
  {
   "cell_type": "code",
   "execution_count": 24,
   "metadata": {},
   "outputs": [],
   "source": [
    "# import dependencies\n",
    "import pandas as pd\n",
    "import numpy as np\n",
    "import csv\n",
    "import tabula\n",
    "import editdistance"
   ]
  },
  {
   "cell_type": "code",
   "execution_count": 25,
   "metadata": {},
   "outputs": [],
   "source": [
    "# Create dictionary for station names to station codes\n",
    "with open('../data/bixi/BixiMontrealRentals2018/Stations_2018.csv', mode='r') as f_in:\n",
    "    reader = csv.reader(f_in)\n",
    "    station_dict = {rows[1]:rows[0] for rows in reader}"
   ]
  },
  {
   "cell_type": "code",
   "execution_count": 26,
   "metadata": {},
   "outputs": [],
   "source": [
    "# Set username and import data file (csv). Use https://www.zamzar.com/convert/pdf-to-csv/ to create csv files\n",
    "username = 'saad'\n",
    "df_master = pd.read_csv('../data/bixi/%s.csv'%username,names = [\"timestamp\",'location','duration'],skiprows=7)"
   ]
  },
  {
   "cell_type": "code",
   "execution_count": 27,
   "metadata": {
    "scrolled": true
   },
   "outputs": [
    {
     "data": {
      "text/html": [
       "<div>\n",
       "<style scoped>\n",
       "    .dataframe tbody tr th:only-of-type {\n",
       "        vertical-align: middle;\n",
       "    }\n",
       "\n",
       "    .dataframe tbody tr th {\n",
       "        vertical-align: top;\n",
       "    }\n",
       "\n",
       "    .dataframe thead th {\n",
       "        text-align: right;\n",
       "    }\n",
       "</style>\n",
       "<table border=\"1\" class=\"dataframe\">\n",
       "  <thead>\n",
       "    <tr style=\"text-align: right;\">\n",
       "      <th></th>\n",
       "      <th>date</th>\n",
       "      <th>location</th>\n",
       "      <th>duration</th>\n",
       "    </tr>\n",
       "  </thead>\n",
       "  <tbody>\n",
       "    <tr>\n",
       "      <th>0</th>\n",
       "      <td>Start: 11/15/2018</td>\n",
       "      <td>Duluth / St-Laurent</td>\n",
       "      <td>11 min 10 s</td>\n",
       "    </tr>\n",
       "    <tr>\n",
       "      <th>1</th>\n",
       "      <td>End: 11/15/2018</td>\n",
       "      <td>de la Montagne / Sherbrooke</td>\n",
       "      <td>NaN</td>\n",
       "    </tr>\n",
       "    <tr>\n",
       "      <th>2</th>\n",
       "      <td>Start: 11/15/2018</td>\n",
       "      <td>Milton / University</td>\n",
       "      <td>8 min 23 s</td>\n",
       "    </tr>\n",
       "    <tr>\n",
       "      <th>3</th>\n",
       "      <td>End: 11/15/2018</td>\n",
       "      <td>Duluth / St-Laurent</td>\n",
       "      <td>NaN</td>\n",
       "    </tr>\n",
       "    <tr>\n",
       "      <th>4</th>\n",
       "      <td>Start: 11/15/2018</td>\n",
       "      <td>Mackay / de Maisonneuve</td>\n",
       "      <td>5 min 51 s</td>\n",
       "    </tr>\n",
       "  </tbody>\n",
       "</table>\n",
       "</div>"
      ],
      "text/plain": [
       "                date                     location     duration\n",
       "0  Start: 11/15/2018          Duluth / St-Laurent  11 min 10 s\n",
       "1    End: 11/15/2018  de la Montagne / Sherbrooke          NaN\n",
       "2  Start: 11/15/2018          Milton / University   8 min 23 s\n",
       "3    End: 11/15/2018          Duluth / St-Laurent          NaN\n",
       "4  Start: 11/15/2018      Mackay / de Maisonneuve   5 min 51 s"
      ]
     },
     "execution_count": 27,
     "metadata": {},
     "output_type": "execute_result"
    }
   ],
   "source": [
    "# Keep all station_points\n",
    "df = df_master.drop(df_master[~(df_master['timestamp'].str.startswith('Start') | df_master['timestamp'].str.startswith('End'))].index)\n",
    "df.reset_index(drop = True, inplace = True)\n",
    "df.rename(columns = {'timestamp':'date'}, inplace = True)\n",
    "df.head()\n"
   ]
  },
  {
   "cell_type": "code",
   "execution_count": 28,
   "metadata": {},
   "outputs": [],
   "source": [
    "# Remove all NaNs from the start/end stations and including its trip-partner (end/start)\n",
    "invalid_index = df['location'].isna()\n",
    "for index, row in invalid_index.iteritems():\n",
    "    if row:\n",
    "        if np.mod(index,2) == 1:\n",
    "            invalid_index.loc[index-1] = True\n",
    "        elif np.mod(index,2) == 0:\n",
    "            invalid_index.loc[index+1] = True\n",
    "            \n",
    "df.drop(df[invalid_index].index,inplace=True)"
   ]
  },
  {
   "cell_type": "code",
   "execution_count": 29,
   "metadata": {},
   "outputs": [],
   "source": [
    "# For those entries that do not match any key in the dictionary, compute Levenshtein distance for all keys. Pick the smallest\n",
    "for index, item in df['location'].iteritems():\n",
    "    if item in station_dict.keys():\n",
    "        continue\n",
    "    else:\n",
    "        min_dist = 100\n",
    "        for station_name in station_dict.keys():\n",
    "            dist = editdistance.eval(item, station_name)\n",
    "            if dist < min_dist:\n",
    "                min_dist = dist\n",
    "                min_station = station_name\n",
    "        df.loc[index,'location'] = min_station"
   ]
  },
  {
   "cell_type": "code",
   "execution_count": 30,
   "metadata": {},
   "outputs": [],
   "source": [
    "# Create empty dataframe with headers corresponding to known format\n",
    "with open('../data/bixi/BixiMontrealRentals2018/OD_2018-04.csv', 'r') as f:\n",
    "    reader = csv.reader(f)\n",
    "    header = next(reader)\n",
    "\n",
    "df_full = pd.DataFrame(columns = header)"
   ]
  },
  {
   "cell_type": "code",
   "execution_count": 31,
   "metadata": {},
   "outputs": [],
   "source": [
    "# Place the start/end stations and duration in df_full\n",
    "for index, row in df.iterrows():\n",
    "    if np.mod(index,2) == 0:\n",
    "        df_full.loc[int(index/2),'start_station_code'] = station_dict[row[1]]\n",
    "        df_full.loc[int(index/2),'duration_sec'] = 60*int(row[2].split()[0])+int(row[2].split()[2])\n",
    "    elif np.mod(index,2) == 1:\n",
    "        df_full.loc[int(index/2),'end_station_code'] = station_dict[row[1]]\n"
   ]
  },
  {
   "cell_type": "code",
   "execution_count": 32,
   "metadata": {},
   "outputs": [
    {
     "name": "stdout",
     "output_type": "stream",
     "text": [
      "    start_date start_station_code end_date end_station_code duration_sec  \\\n",
      "0          NaN               6213      NaN             6065          670   \n",
      "1          NaN               6070      NaN             6213          503   \n",
      "2          NaN               6100      NaN             7080          351   \n",
      "3          NaN               6432      NaN             6100          527   \n",
      "4          NaN               6065      NaN             6432          545   \n",
      "5          NaN               6344      NaN             6065         1628   \n",
      "6          NaN               6344      NaN             6344          399   \n",
      "7          NaN               6205      NaN             6065          627   \n",
      "8          NaN               6070      NaN             6213          473   \n",
      "9          NaN               6205      NaN             6065          445   \n",
      "10         NaN               6070      NaN             6205          147   \n",
      "11         NaN               6070      NaN             6081          362   \n",
      "12         NaN               6068      NaN             6100          259   \n",
      "13         NaN               6070      NaN             6213          449   \n",
      "14         NaN               6214      NaN             6183          549   \n",
      "15         NaN               6065      NaN             6214         1055   \n",
      "16         NaN               7084      NaN             6436          952   \n",
      "17         NaN               6065      NaN             7084          188   \n",
      "18         NaN               6065      NaN             6065           26   \n",
      "19         NaN               6099      NaN             6072          139   \n",
      "20         NaN               6064      NaN             6100          148   \n",
      "21         NaN               6170      NaN             6065         1341   \n",
      "22         NaN               6065      NaN             6186         1194   \n",
      "23         NaN               6027      NaN             6100          177   \n",
      "24         NaN               6068      NaN             6068           18   \n",
      "25         NaN               7084      NaN             6065          218   \n",
      "26         NaN               6070      NaN             6100          468   \n",
      "27         NaN               6186      NaN             6214          665   \n",
      "28         NaN               6178      NaN             6186          399   \n",
      "29         NaN               6170      NaN             6178          339   \n",
      "..         ...                ...      ...              ...          ...   \n",
      "277        NaN               6307      NaN             6065         1108   \n",
      "278        NaN               6221      NaN             6307          464   \n",
      "279        NaN               6065      NaN             6221         1297   \n",
      "280        NaN               7033      NaN             7084          228   \n",
      "281        NaN               6058      NaN             6070          397   \n",
      "282        NaN               6903      NaN             6065         1253   \n",
      "283        NaN               6065      NaN             6067          269   \n",
      "284        NaN               6065      NaN             7080          217   \n",
      "285        NaN               6026      NaN             6065         1036   \n",
      "286        NaN               7084      NaN             6026          828   \n",
      "287        NaN               6065      NaN             6070          242   \n",
      "288        NaN               6205      NaN             6065          365   \n",
      "289        NaN               6205      NaN             6205          601   \n",
      "290        NaN               6021      NaN             6205          256   \n",
      "291        NaN               6205      NaN             6021          558   \n",
      "292        NaN               6065      NaN             6205          351   \n",
      "293        NaN               7033      NaN             6065          274   \n",
      "294        NaN               6203      NaN             6065          238   \n",
      "295        NaN               6065      NaN             6039          654   \n",
      "296        NaN               7084      NaN             6065          102   \n",
      "297        NaN               6070      NaN             6085          498   \n",
      "298        NaN               6065      NaN             6068          235   \n",
      "299        NaN               6727      NaN             7033         1205   \n",
      "300        NaN               6068      NaN             6065          164   \n",
      "301        NaN               6068      NaN             7080           70   \n",
      "302        NaN               6065      NaN             7084          105   \n",
      "303        NaN               6070      NaN             6205           94   \n",
      "304        NaN               6065      NaN             7084          120   \n",
      "305        NaN               6070      NaN             6065          337   \n",
      "306        NaN               6070      NaN             6205          148   \n",
      "\n",
      "    is_member  \n",
      "0         NaN  \n",
      "1         NaN  \n",
      "2         NaN  \n",
      "3         NaN  \n",
      "4         NaN  \n",
      "5         NaN  \n",
      "6         NaN  \n",
      "7         NaN  \n",
      "8         NaN  \n",
      "9         NaN  \n",
      "10        NaN  \n",
      "11        NaN  \n",
      "12        NaN  \n",
      "13        NaN  \n",
      "14        NaN  \n",
      "15        NaN  \n",
      "16        NaN  \n",
      "17        NaN  \n",
      "18        NaN  \n",
      "19        NaN  \n",
      "20        NaN  \n",
      "21        NaN  \n",
      "22        NaN  \n",
      "23        NaN  \n",
      "24        NaN  \n",
      "25        NaN  \n",
      "26        NaN  \n",
      "27        NaN  \n",
      "28        NaN  \n",
      "29        NaN  \n",
      "..        ...  \n",
      "277       NaN  \n",
      "278       NaN  \n",
      "279       NaN  \n",
      "280       NaN  \n",
      "281       NaN  \n",
      "282       NaN  \n",
      "283       NaN  \n",
      "284       NaN  \n",
      "285       NaN  \n",
      "286       NaN  \n",
      "287       NaN  \n",
      "288       NaN  \n",
      "289       NaN  \n",
      "290       NaN  \n",
      "291       NaN  \n",
      "292       NaN  \n",
      "293       NaN  \n",
      "294       NaN  \n",
      "295       NaN  \n",
      "296       NaN  \n",
      "297       NaN  \n",
      "298       NaN  \n",
      "299       NaN  \n",
      "300       NaN  \n",
      "301       NaN  \n",
      "302       NaN  \n",
      "303       NaN  \n",
      "304       NaN  \n",
      "305       NaN  \n",
      "306       NaN  \n",
      "\n",
      "[303 rows x 6 columns]\n"
     ]
    }
   ],
   "source": [
    "print(df_full)"
   ]
  },
  {
   "cell_type": "code",
   "execution_count": 76,
   "metadata": {},
   "outputs": [],
   "source": [
    "# and save the file\n",
    "df_full.to_csv('../data/bixi/%s-complete.csv'%username,index=False)"
   ]
  },
  {
   "cell_type": "code",
   "execution_count": null,
   "metadata": {},
   "outputs": [],
   "source": []
  },
  {
   "cell_type": "code",
   "execution_count": null,
   "metadata": {},
   "outputs": [],
   "source": []
  },
  {
   "cell_type": "code",
   "execution_count": 31,
   "metadata": {},
   "outputs": [],
   "source": [
    "'''\n",
    "Adding the time is too time-consuming (get it?). There are more important jobs to do. Surely one can find to robustly add the time to the userprofile\n",
    "\n",
    "df_time = df_master.drop(df_master[~(df_master['timestamp'].str.contains('AM') | df_master['timestamp'].str.contains('PM'))].index)\n",
    "df_time.reset_index(drop = True, inplace = True)\n",
    "df_time.rename(columns = {'timestamp':'time'}, inplace = True)\n",
    "\n",
    "''';"
   ]
  },
  {
   "cell_type": "code",
   "execution_count": 32,
   "metadata": {},
   "outputs": [],
   "source": [
    "df_time[~df_time['location'].isna()];"
   ]
  },
  {
   "cell_type": "code",
   "execution_count": null,
   "metadata": {},
   "outputs": [],
   "source": [
    "'''Full empty dataframe with \n",
    "1. start_date & end_date (date + time)\n",
    "2. start_station_code & end_station_code\n",
    "3. duration-sec\n"
   ]
  }
 ],
 "metadata": {
  "kernelspec": {
   "display_name": "Python 3",
   "language": "python",
   "name": "python3"
  },
  "language_info": {
   "codemirror_mode": {
    "name": "ipython",
    "version": 3
   },
   "file_extension": ".py",
   "mimetype": "text/x-python",
   "name": "python",
   "nbconvert_exporter": "python",
   "pygments_lexer": "ipython3",
   "version": "3.6.4"
  }
 },
 "nbformat": 4,
 "nbformat_minor": 2
}
