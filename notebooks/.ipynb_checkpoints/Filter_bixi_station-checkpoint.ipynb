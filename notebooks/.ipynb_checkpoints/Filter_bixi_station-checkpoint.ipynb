{
 "cells": [
  {
   "cell_type": "code",
   "execution_count": 19,
   "metadata": {},
   "outputs": [],
   "source": [
    "import numpy as np\n",
    "import csv\n",
    "import tabula\n",
    "import pandas as pd"
   ]
  },
  {
   "cell_type": "code",
   "execution_count": 160,
   "metadata": {},
   "outputs": [],
   "source": [
    "# Create dictionary for station names to station codes\n",
    "path   = '../data/bixi/BixiMontrealRentals2018/Stations_2018_Plateau.csv' \n",
    "infile = open(path, 'r')\n",
    "line = infile.readline()\n",
    "\n",
    "stations = []         # [ID, lat, lon]\n",
    "for i in range(195):\n",
    "    line = infile.readline()\n",
    "    tmp  = line[:-2].split(',')\n",
    "    del tmp[1]\n",
    "    stations.append(tmp)\n",
    "infile.close()\n",
    "stations = np.asarray(stations)"
   ]
  },
  {
   "cell_type": "code",
   "execution_count": 194,
   "metadata": {},
   "outputs": [],
   "source": [
    "# loading users' bixi data\n",
    "user   = 'saad'\n",
    "\n",
    "path   = '../data/bixi/'+user+'-complete.csv'\n",
    "infile = open(path, 'r')\n",
    "line   = infile.readline()\n",
    "\n",
    "rides  = []      # [start, end, duration]\n",
    "while line:\n",
    "#for i in range(1):\n",
    "    line = infile.readline()\n",
    "    tmp  = line.split(',')\n",
    "    del tmp[0]\n",
    "    try: del tmp[1]\n",
    "    except: break \n",
    "    del tmp[3]\n",
    "    rides.append(tmp)\n",
    "infile.close()\n",
    "ridelen = len(rides)\n",
    "rides = np.asarray(rides)"
   ]
  },
  {
   "cell_type": "code",
   "execution_count": 195,
   "metadata": {},
   "outputs": [],
   "source": [
    "# identifying valid rides\n",
    "valid_rides = []\n",
    "for i in range(ridelen):\n",
    "    start, end, dur = rides[i]\n",
    "    tmp1 = np.in1d(start, stations[:,0])\n",
    "    tmp2 = np.in1d(end, stations[:,0])\n",
    "    if (tmp1 == True and tmp2 ==True):\n",
    "        valid_rides.append(0)\n",
    "    else:\n",
    "        valid_rides.append(1)"
   ]
  },
  {
   "cell_type": "code",
   "execution_count": 196,
   "metadata": {},
   "outputs": [],
   "source": [
    "# removing rides that fall outside of the wanted box\n",
    "index = np.asarray(valid_rides)\n",
    "final_rides = rides[index==False]\n",
    "\n",
    "#final_rides = final_rides.astype(np.float)\n",
    "\n",
    "nb_rides = len(final_rides[:,0])"
   ]
  },
  {
   "cell_type": "code",
   "execution_count": 197,
   "metadata": {},
   "outputs": [],
   "source": [
    "# writing the data in a .csv file\n",
    "path = '../data/bixi/'+user+'-filtered.txt'\n",
    "\n",
    "file = open(path, 'w')\n",
    "#line = 'route ID\\n'\n",
    "#file.write(line)\n",
    "\n",
    "l, h =final_rides.shape\n",
    "for i in range(l):\n",
    "    line = final_rides[i,0]+'to'+final_rides[i,1]+'\\n'\n",
    "    file.write(line)\n",
    "    \n",
    "file.close()\n",
    "\n",
    "#header = 'start, end, duration'\n",
    "#np.savetxt(path, final_rides, header=header, delimiter=',')\n",
    "\n",
    "\n",
    "# file = open(path, 'w')\n",
    "# line = 'start, end, duration'\n",
    "# file.write(line)\n",
    "# for i in range(nb_rides):\n",
    "    "
   ]
  },
  {
   "cell_type": "code",
   "execution_count": null,
   "metadata": {},
   "outputs": [],
   "source": []
  }
 ],
 "metadata": {
  "kernelspec": {
   "display_name": "Python (OSMNX)",
   "language": "python",
   "name": "osmnx"
  },
  "language_info": {
   "codemirror_mode": {
    "name": "ipython",
    "version": 3
   },
   "file_extension": ".py",
   "mimetype": "text/x-python",
   "name": "python",
   "nbconvert_exporter": "python",
   "pygments_lexer": "ipython3",
   "version": "3.6.6"
  }
 },
 "nbformat": 4,
 "nbformat_minor": 2
}
