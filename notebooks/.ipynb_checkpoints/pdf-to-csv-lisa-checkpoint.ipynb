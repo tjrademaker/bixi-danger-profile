{
 "cells": [
  {
   "cell_type": "markdown",
   "metadata": {},
   "source": [
    "# Turn exportable Bixi data (pdf) into usable csv format"
   ]
  },
  {
   "cell_type": "code",
   "execution_count": 55,
   "metadata": {},
   "outputs": [],
   "source": [
    "# import dependencies\n",
    "import pandas as pd\n",
    "import numpy as np\n",
    "import csv\n",
    "import editdistance"
   ]
  },
  {
   "cell_type": "code",
   "execution_count": 56,
   "metadata": {},
   "outputs": [],
   "source": [
    "# Create dictionary for station names to station codes\n",
    "with open('../data/BixiMontrealRentals2018/Stations_2018.csv', mode='r') as f_in:\n",
    "    reader = csv.reader(f_in)\n",
    "    station_dict = {rows[1]:rows[0] for rows in reader}"
   ]
  },
  {
   "cell_type": "code",
   "execution_count": 57,
   "metadata": {},
   "outputs": [],
   "source": [
    "# Set username and import data file (csv). Use https://www.zamzar.com/convert/pdf-to-csv/ to create csv files\n",
    "username = 'jamie'\n",
    "df_master = pd.read_csv('../data/bixi-%s.csv'%username,names = [\"timestamp\",'location','duration'],skiprows=7)"
   ]
  },
  {
   "cell_type": "code",
   "execution_count": 58,
   "metadata": {
    "scrolled": true
   },
   "outputs": [
    {
     "data": {
      "text/html": [
       "<div>\n",
       "<style scoped>\n",
       "    .dataframe tbody tr th:only-of-type {\n",
       "        vertical-align: middle;\n",
       "    }\n",
       "\n",
       "    .dataframe tbody tr th {\n",
       "        vertical-align: top;\n",
       "    }\n",
       "\n",
       "    .dataframe thead th {\n",
       "        text-align: right;\n",
       "    }\n",
       "</style>\n",
       "<table border=\"1\" class=\"dataframe\">\n",
       "  <thead>\n",
       "    <tr style=\"text-align: right;\">\n",
       "      <th></th>\n",
       "      <th>date</th>\n",
       "      <th>location</th>\n",
       "      <th>duration</th>\n",
       "    </tr>\n",
       "  </thead>\n",
       "  <tbody>\n",
       "    <tr>\n",
       "      <th>0</th>\n",
       "      <td>Start: 11/15/2018 7:11:40</td>\n",
       "      <td>du President-Kennedy / Robert</td>\n",
       "      <td>1 min 56 s</td>\n",
       "    </tr>\n",
       "    <tr>\n",
       "      <th>1</th>\n",
       "      <td>End: 11/15/2018 7:13:36</td>\n",
       "      <td>McTavish / Sherbrooke</td>\n",
       "      <td>NaN</td>\n",
       "    </tr>\n",
       "    <tr>\n",
       "      <th>2</th>\n",
       "      <td>Start: 11/15/2018 6:45:02</td>\n",
       "      <td>de Maisonneuve / Mans eld (ouest)</td>\n",
       "      <td>1 min 35 s</td>\n",
       "    </tr>\n",
       "    <tr>\n",
       "      <th>3</th>\n",
       "      <td>End: 11/15/2018 6:46:37</td>\n",
       "      <td>du President-Kennedy / Robert Bourassa</td>\n",
       "      <td>NaN</td>\n",
       "    </tr>\n",
       "    <tr>\n",
       "      <th>4</th>\n",
       "      <td>Start: 11/14/2018 11:26:59</td>\n",
       "      <td>Drummond / de Maisonneuve</td>\n",
       "      <td>3 min 2 s</td>\n",
       "    </tr>\n",
       "  </tbody>\n",
       "</table>\n",
       "</div>"
      ],
      "text/plain": [
       "                         date                                location  \\\n",
       "0   Start: 11/15/2018 7:11:40           du President-Kennedy / Robert   \n",
       "1     End: 11/15/2018 7:13:36                   McTavish / Sherbrooke   \n",
       "2   Start: 11/15/2018 6:45:02       de Maisonneuve / Mans eld (ouest)   \n",
       "3     End: 11/15/2018 6:46:37  du President-Kennedy / Robert Bourassa   \n",
       "4  Start: 11/14/2018 11:26:59               Drummond / de Maisonneuve   \n",
       "\n",
       "     duration  \n",
       "0  1 min 56 s  \n",
       "1         NaN  \n",
       "2  1 min 35 s  \n",
       "3         NaN  \n",
       "4   3 min 2 s  "
      ]
     },
     "execution_count": 58,
     "metadata": {},
     "output_type": "execute_result"
    }
   ],
   "source": [
    "# Keep all station_points\n",
    "df = df_master.drop(df_master[~(df_master['timestamp'].str.startswith('Start') | df_master['timestamp'].str.startswith('End'))].index)\n",
    "df.reset_index(drop = True, inplace = True)\n",
    "df.rename(columns = {'timestamp':'date'}, inplace = True)\n",
    "df.head()\n"
   ]
  },
  {
   "cell_type": "code",
   "execution_count": 59,
   "metadata": {},
   "outputs": [],
   "source": [
    "# Remove all NaNs from the start/end stations and including its trip-partner (end/start)\n",
    "invalid_index = df['location'].isna()\n",
    "for index, row in invalid_index.iteritems():\n",
    "    if row:\n",
    "        if np.mod(index,2) == 1:\n",
    "            invalid_index.loc[index-1] = True\n",
    "        elif np.mod(index,2) == 0:\n",
    "            invalid_index.loc[index+1] = True\n",
    "            \n",
    "df.drop(df[invalid_index].index,inplace=True)"
   ]
  },
  {
   "cell_type": "code",
   "execution_count": 60,
   "metadata": {},
   "outputs": [],
   "source": [
    "# For those entries that do not match any key in the dictionary, compute Levenshtein distance for all keys. Pick the smallest\n",
    "for index, item in df['location'].iteritems():\n",
    "    if item in station_dict.keys():\n",
    "        continue\n",
    "    else:\n",
    "        min_dist = 100\n",
    "        for station_name in station_dict.keys():\n",
    "            dist = editdistance.eval(item, station_name)\n",
    "            if dist < min_dist:\n",
    "                min_dist = dist\n",
    "                min_station = station_name\n",
    "        df.loc[index,'location'] = min_station"
   ]
  },
  {
   "cell_type": "code",
   "execution_count": 61,
   "metadata": {},
   "outputs": [],
   "source": [
    "# Create empty dataframe with headers corresponding to known format\n",
    "with open('../data/BixiMontrealRentals2018/OD_2018-04.csv', 'r') as f:\n",
    "    reader = csv.reader(f)\n",
    "    header = next(reader)\n",
    "\n",
    "df_full = pd.DataFrame(columns = header)"
   ]
  },
  {
   "cell_type": "code",
   "execution_count": 62,
   "metadata": {},
   "outputs": [],
   "source": [
    "# Place the start/end stations and duration in df_full\n",
    "for index, row in df.iterrows():\n",
    "    if np.mod(index,2) == 0:\n",
    "        df_full.loc[int(index/2),'start_station_code'] = station_dict[row[1]]\n",
    "        df_full.loc[int(index/2),'duration_sec'] = 60*int(row[2].split()[0])+int(row[2].split()[2])\n",
    "    elif np.mod(index,2) == 1:\n",
    "        df_full.loc[int(index/2),'end_station_code'] = station_dict[row[1]]\n"
   ]
  },
  {
   "cell_type": "code",
   "execution_count": 63,
   "metadata": {},
   "outputs": [],
   "source": [
    "# and save the file\n",
    "df_full.to_csv('../data/bixi-%s-complete.csv'%username,index=False)"
   ]
  },
  {
   "cell_type": "code",
   "execution_count": null,
   "metadata": {},
   "outputs": [],
   "source": []
  },
  {
   "cell_type": "code",
   "execution_count": null,
   "metadata": {},
   "outputs": [],
   "source": []
  },
  {
   "cell_type": "code",
   "execution_count": 31,
   "metadata": {},
   "outputs": [],
   "source": [
    "'''\n",
    "Adding the time is too time-consuming (get it?). There are more important jobs to do. Surely one can find to robustly add the time to the userprofile\n",
    "\n",
    "df_time = df_master.drop(df_master[~(df_master['timestamp'].str.contains('AM') | df_master['timestamp'].str.contains('PM'))].index)\n",
    "df_time.reset_index(drop = True, inplace = True)\n",
    "df_time.rename(columns = {'timestamp':'time'}, inplace = True)\n",
    "\n",
    "''';"
   ]
  },
  {
   "cell_type": "code",
   "execution_count": 32,
   "metadata": {},
   "outputs": [],
   "source": [
    "df_time[~df_time['location'].isna()];"
   ]
  },
  {
   "cell_type": "code",
   "execution_count": null,
   "metadata": {},
   "outputs": [],
   "source": [
    "'''Full empty dataframe with \n",
    "1. start_date & end_date (date + time)\n",
    "2. start_station_code & end_station_code\n",
    "3. duration-sec\n"
   ]
  }
 ],
 "metadata": {
  "kernelspec": {
   "display_name": "Python 3",
   "language": "python",
   "name": "python3"
  },
  "language_info": {
   "codemirror_mode": {
    "name": "ipython",
    "version": 3
   },
   "file_extension": ".py",
   "mimetype": "text/x-python",
   "name": "python",
   "nbconvert_exporter": "python",
   "pygments_lexer": "ipython3",
   "version": "3.6.2rc2"
  }
 },
 "nbformat": 4,
 "nbformat_minor": 2
}
