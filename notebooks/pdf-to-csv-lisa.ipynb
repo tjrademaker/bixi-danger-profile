{
 "cells": [
  {
   "cell_type": "markdown",
   "metadata": {},
   "source": [
    "# Turn exportable Bixi data (pdf) into usable csv format"
   ]
  },
  {
   "cell_type": "code",
   "execution_count": 1,
   "metadata": {},
   "outputs": [],
   "source": [
    "# import dependencies\n",
    "import pandas as pd\n",
    "import numpy as np\n",
    "import csv\n",
    "import tabula\n",
    "import editdistance"
   ]
  },
  {
   "cell_type": "code",
   "execution_count": 2,
   "metadata": {},
   "outputs": [],
   "source": [
    "# Create dictionary for station names to station codes\n",
    "with open('../data/bixi/BixiMontrealRentals2018/Stations_2018.csv', mode='r') as f_in:\n",
    "    reader = csv.reader(f_in)\n",
    "    station_dict = {rows[1]:rows[0] for rows in reader}"
   ]
  },
  {
   "cell_type": "code",
   "execution_count": 3,
   "metadata": {},
   "outputs": [],
   "source": [
    "# Set username and import data file (csv). Use https://www.zamzar.com/convert/pdf-to-csv/ to create csv files\n",
    "username = 'lisa'\n",
    "df_master = pd.read_csv('../data/bixi/%s.csv'%username,names = [\"timestamp\",'location','duration'],skiprows=7)"
   ]
  },
  {
   "cell_type": "code",
   "execution_count": 4,
   "metadata": {
    "scrolled": true
   },
   "outputs": [
    {
     "data": {
      "text/html": [
       "<div>\n",
       "<style scoped>\n",
       "    .dataframe tbody tr th:only-of-type {\n",
       "        vertical-align: middle;\n",
       "    }\n",
       "\n",
       "    .dataframe tbody tr th {\n",
       "        vertical-align: top;\n",
       "    }\n",
       "\n",
       "    .dataframe thead th {\n",
       "        text-align: right;\n",
       "    }\n",
       "</style>\n",
       "<table border=\"1\" class=\"dataframe\">\n",
       "  <thead>\n",
       "    <tr style=\"text-align: right;\">\n",
       "      <th></th>\n",
       "      <th>date</th>\n",
       "      <th>location</th>\n",
       "      <th>duration</th>\n",
       "    </tr>\n",
       "  </thead>\n",
       "  <tbody>\n",
       "    <tr>\n",
       "      <th>0</th>\n",
       "      <td>Start: 11/05/2018</td>\n",
       "      <td>University / Prince-Arthur</td>\n",
       "      <td>14 min 31 s</td>\n",
       "    </tr>\n",
       "    <tr>\n",
       "      <th>1</th>\n",
       "      <td>End: 11/05/2018</td>\n",
       "      <td>Tupper / du Fort</td>\n",
       "      <td>NaN</td>\n",
       "    </tr>\n",
       "    <tr>\n",
       "      <th>2</th>\n",
       "      <td>Start: 11/01/2018</td>\n",
       "      <td>Métro Atwater (Atwater / Ste-Catherine)</td>\n",
       "      <td>16 min 51 s</td>\n",
       "    </tr>\n",
       "    <tr>\n",
       "      <th>3</th>\n",
       "      <td>End: 11/01/2018</td>\n",
       "      <td>University / Prince-Arthur</td>\n",
       "      <td>NaN</td>\n",
       "    </tr>\n",
       "    <tr>\n",
       "      <th>4</th>\n",
       "      <td>Start: 10/31/2018</td>\n",
       "      <td>University / Prince-Arthur</td>\n",
       "      <td>10 min 12 s</td>\n",
       "    </tr>\n",
       "  </tbody>\n",
       "</table>\n",
       "</div>"
      ],
      "text/plain": [
       "                date                                 location     duration\n",
       "0  Start: 11/05/2018               University / Prince-Arthur  14 min 31 s\n",
       "1    End: 11/05/2018                         Tupper / du Fort          NaN\n",
       "2  Start: 11/01/2018  Métro Atwater (Atwater / Ste-Catherine)  16 min 51 s\n",
       "3    End: 11/01/2018               University / Prince-Arthur          NaN\n",
       "4  Start: 10/31/2018               University / Prince-Arthur  10 min 12 s"
      ]
     },
     "execution_count": 4,
     "metadata": {},
     "output_type": "execute_result"
    }
   ],
   "source": [
    "# Keep all station_points\n",
    "df = df_master.drop(df_master[~(df_master['timestamp'].str.startswith('Start') | df_master['timestamp'].str.startswith('End'))].index)\n",
    "df.reset_index(drop = True, inplace = True)\n",
    "df.rename(columns = {'timestamp':'date'}, inplace = True)\n",
    "df.head()\n"
   ]
  },
  {
   "cell_type": "code",
   "execution_count": 5,
   "metadata": {},
   "outputs": [],
   "source": [
    "# Remove all NaNs from the start/end stations and including its trip-partner (end/start)\n",
    "invalid_index = df['location'].isna()\n",
    "for index, row in invalid_index.iteritems():\n",
    "    if row:\n",
    "        if np.mod(index,2) == 1:\n",
    "            invalid_index.loc[index-1] = True\n",
    "        elif np.mod(index,2) == 0:\n",
    "            invalid_index.loc[index+1] = True\n",
    "            \n",
    "df.drop(df[invalid_index].index,inplace=True)"
   ]
  },
  {
   "cell_type": "code",
   "execution_count": 6,
   "metadata": {},
   "outputs": [],
   "source": [
    "# For those entries that do not match any key in the dictionary, compute Levenshtein distance for all keys. Pick the smallest\n",
    "for index, item in df['location'].iteritems():\n",
    "    if item in station_dict.keys():\n",
    "        continue\n",
    "    else:\n",
    "        min_dist = 100\n",
    "        for station_name in station_dict.keys():\n",
    "            dist = editdistance.eval(item, station_name)\n",
    "            if dist < min_dist:\n",
    "                min_dist = dist\n",
    "                min_station = station_name\n",
    "        df.loc[index,'location'] = min_station"
   ]
  },
  {
   "cell_type": "code",
   "execution_count": 7,
   "metadata": {},
   "outputs": [],
   "source": [
    "# Create empty dataframe with headers corresponding to known format\n",
    "with open('../data/bixi/BixiMontrealRentals2018/OD_2018-04.csv', 'r') as f:\n",
    "    reader = csv.reader(f)\n",
    "    header = next(reader)\n",
    "\n",
    "df_full = pd.DataFrame(columns = header)"
   ]
  },
  {
   "cell_type": "code",
   "execution_count": 8,
   "metadata": {},
   "outputs": [],
   "source": [
    "# Place the start/end stations and duration in df_full\n",
    "for index, row in df.iterrows():\n",
    "    if np.mod(index,2) == 0:\n",
    "        df_full.loc[int(index/2),'start_station_code'] = station_dict[row[1]]\n",
    "        df_full.loc[int(index/2),'duration_sec'] = 60*int(row[2].split()[0])+int(row[2].split()[2])\n",
    "    elif np.mod(index,2) == 1:\n",
    "        df_full.loc[int(index/2),'end_station_code'] = station_dict[row[1]]\n"
   ]
  },
  {
   "cell_type": "code",
   "execution_count": 9,
   "metadata": {},
   "outputs": [
    {
     "name": "stdout",
     "output_type": "stream",
     "text": [
      "    start_date start_station_code end_date end_station_code duration_sec  \\\n",
      "0          NaN               6047      NaN             7076          871   \n",
      "1          NaN               6194      NaN             6047         1011   \n",
      "2          NaN               6047      NaN             6013          612   \n",
      "3          NaN               6047      NaN             6100          651   \n",
      "4          NaN               6095      NaN             6047         1288   \n",
      "5          NaN               6194      NaN             7034          466   \n",
      "6          NaN               6204      NaN             6020          901   \n",
      "7          NaN               6107      NaN             7080          553   \n",
      "8          NaN               6047      NaN             7076          831   \n",
      "9          NaN               6047      NaN             6095          839   \n",
      "10         NaN               6099      NaN             6070          410   \n",
      "11         NaN               6097      NaN             6099          323   \n",
      "12         NaN               6097      NaN             6097           24   \n",
      "13         NaN               7076      NaN             6097          124   \n",
      "14         NaN               7076      NaN             6062          363   \n",
      "15         NaN               6047      NaN             7076          876   \n",
      "16         NaN               7076      NaN             6067          601   \n",
      "17         NaN               6050      NaN             6406         1153   \n",
      "18         NaN               7034      NaN             6050         1416   \n",
      "19         NaN               6194      NaN             7034          385   \n",
      "20         NaN               6100      NaN             6070          487   \n",
      "21         NaN               6194      NaN             6100          436   \n",
      "22         NaN               6194      NaN             6194           16   \n",
      "23         NaN               6047      NaN             7080          165   \n",
      "24         NaN               6100      NaN             7080          361   \n",
      "25         NaN               6194      NaN             6100          485   \n",
      "26         NaN               6194      NaN             6047          822   \n",
      "27         NaN               6194      NaN             7080          757   \n",
      "28         NaN               6070      NaN             7076          920   \n",
      "29         NaN               7014      NaN             6047         1215   \n",
      "..         ...                ...      ...              ...          ...   \n",
      "148        NaN               6047      NaN             6733          348   \n",
      "149        NaN               7076      NaN             6070          823   \n",
      "150        NaN               6047      NaN             6248          852   \n",
      "151        NaN               6194      NaN             7080          829   \n",
      "152        NaN               6134      NaN             6381          285   \n",
      "153        NaN               6047      NaN             6194         1018   \n",
      "154        NaN               6047      NaN             7076          960   \n",
      "155        NaN               6070      NaN             7076          759   \n",
      "156        NaN               6047      NaN             6194          819   \n",
      "157        NaN               6047      NaN             7076          823   \n",
      "158        NaN               6047      NaN             6194          927   \n",
      "159        NaN               6047      NaN             6097          893   \n",
      "160        NaN               6047      NaN             7069          211   \n",
      "161        NaN               6072      NaN             7076          624   \n",
      "162        NaN               6194      NaN             6036         2716   \n",
      "163        NaN               6047      NaN             6067          314   \n",
      "164        NaN               6203      NaN             7076          821   \n",
      "165        NaN               6047      NaN             6067          275   \n",
      "166        NaN               6047      NaN             6413          298   \n",
      "167        NaN               6070      NaN             6097         1069   \n",
      "168        NaN               6097      NaN             6047          880   \n",
      "169        NaN               6097      NaN             7080          657   \n",
      "170        NaN               6047      NaN             7076          819   \n",
      "171        NaN               7076      NaN             7069          728   \n",
      "172        NaN               7076      NaN             7080          873   \n",
      "173        NaN               6047      NaN             7076          958   \n",
      "174        NaN               7076      NaN             6073          732   \n",
      "175        NaN               6047      NaN             7076          948   \n",
      "176        NaN               6047      NaN             6064          405   \n",
      "177        NaN               6070      NaN             6209          656   \n",
      "\n",
      "    is_member  \n",
      "0         NaN  \n",
      "1         NaN  \n",
      "2         NaN  \n",
      "3         NaN  \n",
      "4         NaN  \n",
      "5         NaN  \n",
      "6         NaN  \n",
      "7         NaN  \n",
      "8         NaN  \n",
      "9         NaN  \n",
      "10        NaN  \n",
      "11        NaN  \n",
      "12        NaN  \n",
      "13        NaN  \n",
      "14        NaN  \n",
      "15        NaN  \n",
      "16        NaN  \n",
      "17        NaN  \n",
      "18        NaN  \n",
      "19        NaN  \n",
      "20        NaN  \n",
      "21        NaN  \n",
      "22        NaN  \n",
      "23        NaN  \n",
      "24        NaN  \n",
      "25        NaN  \n",
      "26        NaN  \n",
      "27        NaN  \n",
      "28        NaN  \n",
      "29        NaN  \n",
      "..        ...  \n",
      "148       NaN  \n",
      "149       NaN  \n",
      "150       NaN  \n",
      "151       NaN  \n",
      "152       NaN  \n",
      "153       NaN  \n",
      "154       NaN  \n",
      "155       NaN  \n",
      "156       NaN  \n",
      "157       NaN  \n",
      "158       NaN  \n",
      "159       NaN  \n",
      "160       NaN  \n",
      "161       NaN  \n",
      "162       NaN  \n",
      "163       NaN  \n",
      "164       NaN  \n",
      "165       NaN  \n",
      "166       NaN  \n",
      "167       NaN  \n",
      "168       NaN  \n",
      "169       NaN  \n",
      "170       NaN  \n",
      "171       NaN  \n",
      "172       NaN  \n",
      "173       NaN  \n",
      "174       NaN  \n",
      "175       NaN  \n",
      "176       NaN  \n",
      "177       NaN  \n",
      "\n",
      "[178 rows x 6 columns]\n"
     ]
    }
   ],
   "source": [
    "print(df_full)"
   ]
  },
  {
   "cell_type": "code",
   "execution_count": 10,
   "metadata": {},
   "outputs": [],
   "source": [
    "# and save the file\n",
    "df_full.to_csv('../data/bixi/%s-complete.csv'%username,index=False)"
   ]
  },
  {
   "cell_type": "code",
   "execution_count": null,
   "metadata": {},
   "outputs": [],
   "source": []
  },
  {
   "cell_type": "code",
   "execution_count": null,
   "metadata": {},
   "outputs": [],
   "source": []
  },
  {
   "cell_type": "code",
   "execution_count": 11,
   "metadata": {},
   "outputs": [],
   "source": [
    "'''\n",
    "Adding the time is too time-consuming (get it?). There are more important jobs to do. Surely one can find to robustly add the time to the userprofile\n",
    "\n",
    "df_time = df_master.drop(df_master[~(df_master['timestamp'].str.contains('AM') | df_master['timestamp'].str.contains('PM'))].index)\n",
    "df_time.reset_index(drop = True, inplace = True)\n",
    "df_time.rename(columns = {'timestamp':'time'}, inplace = True)\n",
    "\n",
    "''';"
   ]
  },
  {
   "cell_type": "code",
   "execution_count": 12,
   "metadata": {},
   "outputs": [
    {
     "ename": "NameError",
     "evalue": "name 'df_time' is not defined",
     "output_type": "error",
     "traceback": [
      "\u001b[0;31m---------------------------------------------------------------------------\u001b[0m",
      "\u001b[0;31mNameError\u001b[0m                                 Traceback (most recent call last)",
      "\u001b[0;32m<ipython-input-12-d27d4540f434>\u001b[0m in \u001b[0;36m<module>\u001b[0;34m()\u001b[0m\n\u001b[0;32m----> 1\u001b[0;31m \u001b[0mdf_time\u001b[0m\u001b[0;34m[\u001b[0m\u001b[0;34m~\u001b[0m\u001b[0mdf_time\u001b[0m\u001b[0;34m[\u001b[0m\u001b[0;34m'location'\u001b[0m\u001b[0;34m]\u001b[0m\u001b[0;34m.\u001b[0m\u001b[0misna\u001b[0m\u001b[0;34m(\u001b[0m\u001b[0;34m)\u001b[0m\u001b[0;34m]\u001b[0m\u001b[0;34m;\u001b[0m\u001b[0;34m\u001b[0m\u001b[0m\n\u001b[0m",
      "\u001b[0;31mNameError\u001b[0m: name 'df_time' is not defined"
     ]
    }
   ],
   "source": [
    "df_time[~df_time['location'].isna()];"
   ]
  },
  {
   "cell_type": "code",
   "execution_count": null,
   "metadata": {},
   "outputs": [],
   "source": [
    "'''Full empty dataframe with \n",
    "1. start_date & end_date (date + time)\n",
    "2. start_station_code & end_station_code\n",
    "3. duration-sec\n"
   ]
  }
 ],
 "metadata": {
  "kernelspec": {
   "display_name": "Python 3",
   "language": "python",
   "name": "python3"
  },
  "language_info": {
   "codemirror_mode": {
    "name": "ipython",
    "version": 3
   },
   "file_extension": ".py",
   "mimetype": "text/x-python",
   "name": "python",
   "nbconvert_exporter": "python",
   "pygments_lexer": "ipython3",
   "version": "3.6.6"
  }
 },
 "nbformat": 4,
 "nbformat_minor": 2
}
