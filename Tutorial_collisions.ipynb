{
 "cells": [
  {
   "cell_type": "code",
   "execution_count": 1,
   "metadata": {},
   "outputs": [],
   "source": [
    "import numpy as np\n",
    "from Bixi_Danger import collision_backend as colli"
   ]
  },
  {
   "cell_type": "code",
   "execution_count": null,
   "metadata": {},
   "outputs": [],
   "source": [
    "# define region boudaries\n",
    "xmin, xmax = (45.5049722, 45.5412594)    # latitude\n",
    "ymin, ymax = (-73.6120455,-73.5593741)   # longitude\n",
    "\n",
    "# creating position grid\n",
    "delta, position = colli.coordinate_grid(latmin, latmax, lonmin, lonmax, nlat, nlon)"
   ]
  }
 ],
 "metadata": {
  "kernelspec": {
   "display_name": "Python (OSMNX)",
   "language": "python",
   "name": "osmnx"
  },
  "language_info": {
   "codemirror_mode": {
    "name": "ipython",
    "version": 3
   },
   "file_extension": ".py",
   "mimetype": "text/x-python",
   "name": "python",
   "nbconvert_exporter": "python",
   "pygments_lexer": "ipython3",
   "version": "3.6.6"
  }
 },
 "nbformat": 4,
 "nbformat_minor": 2
}
