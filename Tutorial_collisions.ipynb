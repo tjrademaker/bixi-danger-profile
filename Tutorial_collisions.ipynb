{
 "cells": [
  {
   "cell_type": "code",
   "execution_count": 1,
   "metadata": {},
   "outputs": [],
   "source": [
    "import numpy as np\n",
    "from Bixi_Danger import collision_backend as colli"
   ]
  },
  {
   "cell_type": "code",
   "execution_count": 2,
   "metadata": {},
   "outputs": [],
   "source": [
    "# define region boudaries\n",
    "latmin, latmax = 45.5049722, 45.5412594    # latitude\n",
    "lonmin, lonmax = -73.6120455,-73.5593741   # longitude\n",
    "nlat, nlon     = 1000, 1000\n",
    "\n",
    "# creating position grid\n",
    "delta, position, mins, maxs= colli.coordinate_grid(latmin, latmax, lonmin, lonmax, nlat, nlon)"
   ]
  },
  {
   "cell_type": "code",
   "execution_count": null,
   "metadata": {},
   "outputs": [],
   "source": []
  }
 ],
 "metadata": {
  "kernelspec": {
   "display_name": "Python (OSMNX)",
   "language": "python",
   "name": "osmnx"
  },
  "language_info": {
   "codemirror_mode": {
    "name": "ipython",
    "version": 3
   },
   "file_extension": ".py",
   "mimetype": "text/x-python",
   "name": "python",
   "nbconvert_exporter": "python",
   "pygments_lexer": "ipython3",
   "version": "3.6.6"
  }
 },
 "nbformat": 4,
 "nbformat_minor": 2
}
