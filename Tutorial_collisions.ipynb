{
 "cells": [
  {
   "cell_type": "code",
   "execution_count": null,
   "metadata": {},
   "outputs": [],
   "source": [
    "import numpy as np\n",
    "from Bixi_Danger import collision_backend as colli\n",
    "\n",
    "import matplotlib.pyplot as plt\n",
    "from matplotlib.colors import LogNorm"
   ]
  },
  {
   "cell_type": "markdown",
   "metadata": {},
   "source": [
    "### Traffic Density Profile\n",
    "\n",
    "from traffic-density-profile.ipynb\n",
    "\n",
    "suggestion: add progress bar to things that take a long time to run"
   ]
  },
  {
   "cell_type": "code",
   "execution_count": null,
   "metadata": {},
   "outputs": [],
   "source": [
    "# define region boudaries\n",
    "latmin, latmax = 45.5049722, 45.5412594    # latitude\n",
    "lonmin, lonmax = -73.6120455,-73.5593741   # longitude\n",
    "nlat, nlon     = 1000, 1000\n",
    "\n",
    "# creating position grid\n",
    "delta, position, mins, maxs= colli.coordinate_grid(latmin, latmax, lonmin,\n",
    "                                                   lonmax, nlat, nlon)\n",
    "# create density map grid (very long)\n",
    "density_map = colli.get_density_map('2018')\n",
    "\n",
    "# create boolean map and save maps\n",
    "boolean_map = colli.save_maps(density_map)"
   ]
  },
  {
   "cell_type": "markdown",
   "metadata": {},
   "source": [
    "### Danger Probability\n",
    "from Danger_Probability.ipynb\n"
   ]
  },
  {
   "cell_type": "code",
   "execution_count": null,
   "metadata": {},
   "outputs": [],
   "source": [
    "# filter collision data outside fo the box defined above\n",
    "lat, lon, weight = colli.filter_collision(latmin, latmax, lonmin, lonmax)\n",
    "# make Gaussian danger map\n",
    "danger_map = colli.gaussian_danger_map(lat, lon, weight, latmin, \n",
    "                                       latmax, lonmin, lonmax)\n",
    "# final danger map accounting for streets and blocs\n",
    "danger_map_street = (boolean_map*danger_map) +1"
   ]
  },
  {
   "cell_type": "code",
   "execution_count": null,
   "metadata": {},
   "outputs": [],
   "source": [
    "plt.figure(figsize=(5,5))\n",
    "plt.imshow(danger_map, interpolation='gaussian', origin='lower', cmap='RdBu_r', norm=LogNorm(vmin=1, vmax=1+danger_map.max()))\n",
    "plt.colorbar()\n",
    "plt.axis('off')\n",
    "#plt.savefig('bool_danger_map.png', transparent=True)"
   ]
  },
  {
   "cell_type": "markdown",
   "metadata": {},
   "source": [
    "### Computer user Danger Metric"
   ]
  },
  {
   "cell_type": "code",
   "execution_count": null,
   "metadata": {},
   "outputs": [],
   "source": []
  },
  {
   "cell_type": "code",
   "execution_count": null,
   "metadata": {},
   "outputs": [],
   "source": []
  }
 ],
 "metadata": {
  "kernelspec": {
   "display_name": "Python (OSMNX)",
   "language": "python",
   "name": "osmnx"
  },
  "language_info": {
   "codemirror_mode": {
    "name": "ipython",
    "version": 3
   },
   "file_extension": ".py",
   "mimetype": "text/x-python",
   "name": "python",
   "nbconvert_exporter": "python",
   "pygments_lexer": "ipython3",
   "version": "3.6.6"
  }
 },
 "nbformat": 4,
 "nbformat_minor": 2
}
