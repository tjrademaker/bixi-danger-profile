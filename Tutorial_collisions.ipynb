{
 "cells": [
  {
   "cell_type": "code",
   "execution_count": 1,
   "metadata": {},
   "outputs": [],
   "source": [
    "import numpy as np\n",
    "from Bixi_Danger import collision_backend as colli"
   ]
  },
  {
   "cell_type": "markdown",
   "metadata": {},
   "source": [
    "### Traffic Density Profile\n",
    "\n",
    "from traffic-density-profile.ipynb\n",
    "\n",
    "suggestion: add progress bar to things that take a long time to run"
   ]
  },
  {
   "cell_type": "code",
   "execution_count": 2,
   "metadata": {},
   "outputs": [],
   "source": [
    "# define region boudaries\n",
    "latmin, latmax = 45.5049722, 45.5412594    # latitude\n",
    "lonmin, lonmax = -73.6120455,-73.5593741   # longitude\n",
    "nlat, nlon     = 1000, 1000\n",
    "\n",
    "# creating position grid\n",
    "delta, position, mins, maxs= colli.coordinate_grid(latmin, latmax, lonmin,\n",
    "                                                   lonmax, nlat, nlon)\n",
    "# create density map grid (very long)\n",
    "#density_map = colli.get_density_map('2018')\n",
    "\n",
    "# create boolean map and save maps\n",
    "#boolean_map = colli.save_maps(density_map)"
   ]
  },
  {
   "cell_type": "markdown",
   "metadata": {},
   "source": [
    "### Danger Probability\n",
    "from Danger_Probability.ipynb\n"
   ]
  },
  {
   "cell_type": "code",
   "execution_count": 3,
   "metadata": {},
   "outputs": [
    {
     "ename": "NameError",
     "evalue": "name 'st' is not defined",
     "output_type": "error",
     "traceback": [
      "\u001b[0;31m---------------------------------------------------------------------------\u001b[0m",
      "\u001b[0;31mNameError\u001b[0m                                 Traceback (most recent call last)",
      "\u001b[0;32m<ipython-input-3-fd168472c38d>\u001b[0m in \u001b[0;36m<module>\u001b[0;34m\u001b[0m\n\u001b[1;32m      2\u001b[0m \u001b[0mlat\u001b[0m\u001b[0;34m,\u001b[0m \u001b[0mlon\u001b[0m\u001b[0;34m,\u001b[0m \u001b[0mweight\u001b[0m \u001b[0;34m=\u001b[0m \u001b[0mcolli\u001b[0m\u001b[0;34m.\u001b[0m\u001b[0mfilter_collision\u001b[0m\u001b[0;34m(\u001b[0m\u001b[0mlatmin\u001b[0m\u001b[0;34m,\u001b[0m \u001b[0mlatmax\u001b[0m\u001b[0;34m,\u001b[0m \u001b[0mlonmin\u001b[0m\u001b[0;34m,\u001b[0m \u001b[0mlonmax\u001b[0m\u001b[0;34m)\u001b[0m\u001b[0;34m\u001b[0m\u001b[0m\n\u001b[1;32m      3\u001b[0m \u001b[0;31m# make Gaussian danger map\u001b[0m\u001b[0;34m\u001b[0m\u001b[0;34m\u001b[0m\u001b[0m\n\u001b[0;32m----> 4\u001b[0;31m \u001b[0mdanger_map\u001b[0m \u001b[0;34m=\u001b[0m \u001b[0mcolli\u001b[0m\u001b[0;34m.\u001b[0m\u001b[0mgaussian_danger_map\u001b[0m\u001b[0;34m(\u001b[0m\u001b[0mlat\u001b[0m\u001b[0;34m,\u001b[0m \u001b[0mlon\u001b[0m\u001b[0;34m,\u001b[0m \u001b[0mweight\u001b[0m\u001b[0;34m,\u001b[0m \u001b[0mlatmin\u001b[0m\u001b[0;34m,\u001b[0m \u001b[0mlatmax\u001b[0m\u001b[0;34m,\u001b[0m \u001b[0mlonmin\u001b[0m\u001b[0;34m,\u001b[0m \u001b[0mlonmax\u001b[0m\u001b[0;34m)\u001b[0m\u001b[0;34m\u001b[0m\u001b[0m\n\u001b[0m",
      "\u001b[0;32m~/Desktop/GitHub/bixi-danger-profile/Bixi_Danger/collision_backend.py\u001b[0m in \u001b[0;36mgaussian_danger_map\u001b[0;34m(colli_lat, colli_lon, weight, latmin, latmax, lonmin, lonmax)\u001b[0m\n\u001b[1;32m    154\u001b[0m         \u001b[0;31m#for i in range(2):\u001b[0m\u001b[0;34m\u001b[0m\u001b[0;34m\u001b[0m\u001b[0m\n\u001b[1;32m    155\u001b[0m \t\ttmp = Gaussian2D(position, weight[i], colli_lon[i], \n\u001b[0;32m--> 156\u001b[0;31m \t\t\tcolli_lat[i], sigx=0.001, sigy=0.001)\n\u001b[0m\u001b[1;32m    157\u001b[0m                 \u001b[0mdanger_map\u001b[0m \u001b[0;34m+=\u001b[0m \u001b[0mtmp\u001b[0m\u001b[0;34m\u001b[0m\u001b[0m\n\u001b[1;32m    158\u001b[0m         \u001b[0;32mreturn\u001b[0m \u001b[0mdanger_map\u001b[0m\u001b[0;34m\u001b[0m\u001b[0m\n",
      "\u001b[0;32m~/Desktop/GitHub/bixi-danger-profile/Bixi_Danger/collision_backend.py\u001b[0m in \u001b[0;36mGaussian2D\u001b[0;34m(position, amp, xo, yo, sigx, sigy)\u001b[0m\n\u001b[1;32m    137\u001b[0m         \u001b[0mcentroid\u001b[0m \u001b[0;34m=\u001b[0m \u001b[0;34m[\u001b[0m\u001b[0myo\u001b[0m\u001b[0;34m,\u001b[0m \u001b[0mxo\u001b[0m\u001b[0;34m]\u001b[0m\u001b[0;34m\u001b[0m\u001b[0m\n\u001b[1;32m    138\u001b[0m         \u001b[0mcov\u001b[0m \u001b[0;34m=\u001b[0m \u001b[0;34m[\u001b[0m\u001b[0;34m[\u001b[0m\u001b[0msigy\u001b[0m\u001b[0;34m**\u001b[0m\u001b[0;36m2\u001b[0m\u001b[0;34m,\u001b[0m \u001b[0;36m0\u001b[0m\u001b[0;34m]\u001b[0m\u001b[0;34m,\u001b[0m\u001b[0;34m[\u001b[0m\u001b[0;36m0\u001b[0m\u001b[0;34m,\u001b[0m \u001b[0msigx\u001b[0m\u001b[0;34m**\u001b[0m\u001b[0;36m2\u001b[0m\u001b[0;34m]\u001b[0m\u001b[0;34m]\u001b[0m\u001b[0;34m\u001b[0m\u001b[0m\n\u001b[0;32m--> 139\u001b[0;31m         \u001b[0mrv\u001b[0m \u001b[0;34m=\u001b[0m \u001b[0mst\u001b[0m\u001b[0;34m.\u001b[0m\u001b[0mmultivariate_normal\u001b[0m\u001b[0;34m(\u001b[0m\u001b[0mmean\u001b[0m \u001b[0;34m=\u001b[0m \u001b[0mcentroid\u001b[0m\u001b[0;34m,\u001b[0m \u001b[0mcov\u001b[0m \u001b[0;34m=\u001b[0m \u001b[0mcov\u001b[0m\u001b[0;34m)\u001b[0m\u001b[0;34m\u001b[0m\u001b[0m\n\u001b[0m\u001b[1;32m    140\u001b[0m         \u001b[0mPSF\u001b[0m \u001b[0;34m=\u001b[0m \u001b[0mamp\u001b[0m\u001b[0;34m*\u001b[0m\u001b[0;34m(\u001b[0m\u001b[0mrv\u001b[0m\u001b[0;34m.\u001b[0m\u001b[0mpdf\u001b[0m\u001b[0;34m(\u001b[0m\u001b[0mposition\u001b[0m\u001b[0;34m)\u001b[0m\u001b[0;34m)\u001b[0m\u001b[0;34m\u001b[0m\u001b[0m\n\u001b[1;32m    141\u001b[0m         \u001b[0;32mreturn\u001b[0m \u001b[0mPSF\u001b[0m\u001b[0;34m\u001b[0m\u001b[0m\n",
      "\u001b[0;31mNameError\u001b[0m: name 'st' is not defined"
     ]
    }
   ],
   "source": [
    "# filter collision data outside fo the box defined above\n",
    "lat, lon, weight = colli.filter_collision(latmin, latmax, lonmin, lonmax)\n",
    "# make Gaussian danger map\n",
    "danger_map = colli.gaussian_danger_map(lat, lon, weight, latmin, latmax, lonmin, lonmax)"
   ]
  },
  {
   "cell_type": "code",
   "execution_count": null,
   "metadata": {},
   "outputs": [],
   "source": []
  },
  {
   "cell_type": "code",
   "execution_count": 3,
   "metadata": {},
   "outputs": [
    {
     "data": {
      "text/plain": [
       "range(4, 11)"
      ]
     },
     "execution_count": 3,
     "metadata": {},
     "output_type": "execute_result"
    }
   ],
   "source": [
    "range(4,11)"
   ]
  },
  {
   "cell_type": "code",
   "execution_count": null,
   "metadata": {},
   "outputs": [],
   "source": []
  }
 ],
 "metadata": {
  "kernelspec": {
   "display_name": "Python (OSMNX)",
   "language": "python",
   "name": "osmnx"
  },
  "language_info": {
   "codemirror_mode": {
    "name": "ipython",
    "version": 3
   },
   "file_extension": ".py",
   "mimetype": "text/x-python",
   "name": "python",
   "nbconvert_exporter": "python",
   "pygments_lexer": "ipython3",
   "version": "3.6.6"
  }
 },
 "nbformat": 4,
 "nbformat_minor": 2
}
